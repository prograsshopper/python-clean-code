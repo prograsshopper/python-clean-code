{
 "cells": [
  {
   "cell_type": "markdown",
   "id": "e4f5fe60",
   "metadata": {},
   "source": [
    "# 파이썬답게 생각하기"
   ]
  },
  {
   "cell_type": "markdown",
   "id": "6240fc64",
   "metadata": {},
   "source": [
    "## way 1. 사용중인 파이썬의 버전을 알아두라"
   ]
  },
  {
   "cell_type": "code",
   "execution_count": 2,
   "id": "6314515f",
   "metadata": {},
   "outputs": [
    {
     "name": "stdout",
     "output_type": "stream",
     "text": [
      "Python 3.8.11\r\n"
     ]
    }
   ],
   "source": [
    "!python --version"
   ]
  },
  {
   "cell_type": "code",
   "execution_count": 4,
   "id": "93fcf368",
   "metadata": {},
   "outputs": [
    {
     "name": "stdout",
     "output_type": "stream",
     "text": [
      "sys.version_info(major=3, minor=8, micro=11, releaselevel='final', serial=0)\n",
      "3.8.11 (default, Feb 26 2022, 16:16:46) \n",
      "[Clang 13.0.0 (clang-1300.0.29.30)]\n"
     ]
    }
   ],
   "source": [
    "# 내장 모듈인 sys값을 검사하면 현재 실행중인 파이썬 버전을 알 수 있다.\n",
    "\n",
    "import sys\n",
    "print(sys.version_info)\n",
    "print(sys.version)"
   ]
  },
  {
   "cell_type": "markdown",
   "id": "c3435670",
   "metadata": {},
   "source": [
    "## way 2. PEP 8 스타일 가이드를 따르라"
   ]
  },
  {
   "cell_type": "markdown",
   "id": "c4cfd8af",
   "metadata": {},
   "source": [
    "### [pep8](https://peps.python.org/pep-0008/)\n",
    "- 파이썬 코드를 어떤 형식으로 작성할지 알려주는 스타일 가이드"
   ]
  },
  {
   "cell_type": "code",
   "execution_count": 5,
   "id": "2b57c7bb",
   "metadata": {},
   "outputs": [
    {
     "name": "stdout",
     "output_type": "stream",
     "text": [
      "Collecting pep8\n",
      "  Downloading pep8-1.7.1-py2.py3-none-any.whl (41 kB)\n",
      "\u001b[K     |████████████████████████████████| 41 kB 1.1 MB/s  eta 0:00:01\n",
      "\u001b[?25hInstalling collected packages: pep8\n",
      "Successfully installed pep8-1.7.1\n",
      "\u001b[33mWARNING: You are using pip version 21.1.2; however, version 22.0.4 is available.\n",
      "You should consider upgrading via the '/Users/prograsshopper/projects/python-clean-code/venv/bin/python -m pip install --upgrade pip' command.\u001b[0m\n"
     ]
    }
   ],
   "source": [
    "!pip install pep8"
   ]
  },
  {
   "cell_type": "markdown",
   "id": "cc594bd6",
   "metadata": {},
   "source": [
    "#### 공백\n",
    "- 탭 대신 스페이스를 사용해 들여쓰기하라\n",
    "- 문법적으로 중요한 들여쓰기에는 4칸 스페이스를 사용하라\n",
    "- 라인 길이는 79개 문자 이하여야 한다\n",
    "- 긴 식을 다음 줄에 이어서 쓸 경우에는 일반적인 들여쓰기보다 4 스페이스를 더 들여써야 한다\n",
    "- 파일 안에서 각 함수와 클래스 사이에는 빈 줄을 두 줄 넣어라\n",
    "- 클래스 안에서 메서드와 메서드 사이에는 빈 줄을 한 줄 넣어라\n",
    "- 딕셔너리에서 키와 콜론 사이에는 공백을 넣지 말고 한 줄 안에 키와 값을 같이 넣는 경우에는 콜론 다음에 스페이스를 하나 넣는다\n",
    "- 변수 대입에서 = 전후에는 스페이스를 하나씩 넣는다\n",
    "- 타입 표기를 덧붙이는 경우에는 변수 이름과 콜론 사이에 공백을 넣지 않도록 주의하고 콜론과 타입 정보 사이에는 스페이스를 하나 넣어라"
   ]
  },
  {
   "cell_type": "markdown",
   "id": "1e0b4819",
   "metadata": {},
   "source": [
    "#### 명명 규약\n",
    "- 함수, 변수, 애트리뷰트(attribute)는 소문자와 밑줄 사용 (스네이크케이스)\n",
    "- 보호되어야하는 인스턴스 애트리뷰트는 밑줄{소문자+밑줄}(ex._leading_underscore)로 명명\n",
    "- 비공개 인스턴스 애트리뷰트는 밑줄두개{소문자_밑줄}(ex.\\__leading_underscore)\n",
    "- 클래스는 카멜케이스로 명명\n",
    "- 모듈 수준의 상수는 대문자_대문자의 형식(ex.ALL_CAPS)으로 명명\n",
    "- 클래스에 들어있는 인스턴스 메서드는 호출 대상 객체를 가리키는 첫번째 인자의 이름으로 반드시 self를 사용\n",
    "- 클래스 메서드는 클래스를 가리키는 첫번째 인자의 이름으로 반드시 cls를 사용해야 한다."
   ]
  },
  {
   "cell_type": "markdown",
   "id": "1a21cb48",
   "metadata": {},
   "source": [
    "#### 식과 문\n",
    "- 긍정적 실르 부정하지 말고 부정을 내부에 넣어라\n",
    "    - if not a is b (X)\n",
    "    - if a is not b (O)\n",
    "- 빈 컨테이너나 시퀀스('', []) 검사시 길이를 0보다 큰지 비교하지 말라. 대신 if 컨테이너가 비어있지 않는 경우 암묵적으로 True로 평가된다는 사실을 활용하라\n",
    "- 한줄짜리 if문, for/while 루프, except등을 사용하지 말고 명확성을 위해 각 부분을 여러 줄에 나눠 배치하라\n",
    "- 식을 한 줄에 다 쓸수 없는 경우 식을 괄호와 둘러싸고 줄바꿈과 들여쓰기를 추가해서 읽기 쉽게 만들라\n",
    "- 여러 줄에 걸쳐 식을 쓸때는 줄이 계속된다는 표시를 하는 \\문자보단 괄호를 사용하라 [참고 링크](https://realpython.com/python-pep8/#maximum-line-length-and-line-breaking)"
   ]
  },
  {
   "cell_type": "markdown",
   "id": "0b713815",
   "metadata": {},
   "source": [
    "#### 임포트\n",
    "- import문은 항상 파일 맨 앞에 위치시켜라\n",
    "- 모듈을 임포트할때는 절대적 이름을 사용하고 현 모듈의 경로에 상대적 이름을 사용하지 말라\n",
    "    - from bar import foo (O)\n",
    "- 불가피하게 상대적 경로로 임포트해야하는 경우에는 from . import foo 처럼 명시적인 구문을 사용해라\n",
    "- 임포트를 적을땐 표준 라이브러리 모듈 - 서드 파티 모듈 - 여러분이 만든 모듈 순서로 섹션을 나누고 각 섹션에선 알파벳 순서로 모듈을 임포트하도록 한다"
   ]
  },
  {
   "cell_type": "markdown",
   "id": "709b91ef",
   "metadata": {},
   "source": [
    "## way 3. bytes와 str의 차이를 알아두라\n",
    "- 파이썬에는 문자열 데이터의 시퀀스를 표현하는 두가지 타입이 있다: str, bytes\n",
    "- bytes: 부호가 없는 8바이트 데이터가 그대로 들어감\n",
    "    - ex. a = b'h\\x65llo'\n",
    "- str: 유니코드 코드 포인트가 들어감\n",
    "- 유니코드 -> 이진데이터 변환: str의 encode 메서드 호출\n",
    "- 이진데이터 -> 유니코드 변환: bytes의 decode 메서드 호출\n",
    "- 유니코드 샌드위치: 프로그램 작성시 유니코드 데이터를 인코딩/디코딩 하는 부분을 인터페이스의 가장 먼 경계 지점에 위치시키는 것\n",
    "- __내부에 같은 문자가 들어가도 bytes와 str 인스턴스가 같은지를 비교하면 항상 False가 나온다"
   ]
  },
  {
   "cell_type": "markdown",
   "id": "df5cb075",
   "metadata": {},
   "source": [
    "## way 4. C 스타일 형식의 문자열을 str.format과 쓰기 보다는 f-문자열을 통한 인터폴레이션을 사용하라"
   ]
  },
  {
   "cell_type": "code",
   "execution_count": 7,
   "id": "8704f3ed",
   "metadata": {},
   "outputs": [
    {
     "name": "stdout",
     "output_type": "stream",
     "text": [
      "이진수: 91, 십육진수: 3167\n"
     ]
    }
   ],
   "source": [
    "'''\n",
    "%, str.format등의 문제\n",
    "\n",
    "문제점\n",
    "1. 데이터값의 순서를 바꾸거나 값의 타입을 바꾸면 타입 변환이 불가능해서 오류 발생\n",
    "2. formatting전 값을 살짝 변경해야 한다면 식을 읽기가 매우 어려워진다\n",
    "3. 같은 값을 여러번 사용하고 싶으면 튜플에서 값은 값을 여러번 반복해야한다\n",
    "'''\n",
    "a = 0b1011011\n",
    "b = 0xc5f\n",
    "print(\"이진수: %d, 십육진수: %d\" % (a, b))"
   ]
  },
  {
   "cell_type": "code",
   "execution_count": 8,
   "id": "1d262d72",
   "metadata": {},
   "outputs": [
    {
     "data": {
      "text/plain": [
       "'\\n인터폴레이션을 통한 형식 문자열\\n- f-string은 간결하지만 위치 지정자 안에 임의의 파이썬 식을 직접 포함시킬 수 있으므로 매우 강력하다.\\n'"
      ]
     },
     "execution_count": 8,
     "metadata": {},
     "output_type": "execute_result"
    }
   ],
   "source": [
    "'''\n",
    "인터폴레이션을 통한 형식 문자열\n",
    "- f-string은 간결하지만 위치 지정자 안에 임의의 파이썬 식을 직접 포함시킬 수 있으므로 매우 강력하다.\n",
    "'''"
   ]
  },
  {
   "cell_type": "markdown",
   "id": "bbc7ee24",
   "metadata": {},
   "source": [
    "## way 5 복잡한 식을 쓰는 대신 도우미 함수를 작성하라\n",
    "\n",
    "> from urllib.parse import parse_qs\n",
    "\n",
    ">my_values = parse_qs(\"빨강=5&파랑=0&초록=\", keep_blank_value=True)"
   ]
  },
  {
   "cell_type": "code",
   "execution_count": 1,
   "id": "acafc835",
   "metadata": {},
   "outputs": [],
   "source": [
    "# 도우미 함수\n",
    "def get_first_int(values, key, default=0):\n",
    "    found = values.get(key, [''])\n",
    "    if found[0]:\n",
    "        return int(found[0])\n",
    "    return default"
   ]
  },
  {
   "cell_type": "markdown",
   "id": "9778f398",
   "metadata": {},
   "source": [
    "## way 6. 인덱스를 사용하는 대신 대입을 사용해 데이터를 언패킹하라"
   ]
  },
  {
   "cell_type": "code",
   "execution_count": 2,
   "id": "73b7501a",
   "metadata": {},
   "outputs": [
    {
     "name": "stdout",
     "output_type": "stream",
     "text": [
      "(('potato', 140), ('popcorn', 80), ('peanuts', 190))\n"
     ]
    }
   ],
   "source": [
    "# 튜플: 값으로 이뤄진 불변의 순서쌍을 만들 수 있는 내장 타입\n",
    "# 인덱스를 통해 튜플 안의 값에 접근할 수 있음\n",
    "# 하지만 인덱스로 튜플을 변경할 수는 없다.\n",
    "snack_values = {\n",
    "    'potato': 140,\n",
    "    'popcorn': 80,\n",
    "    'peanuts': 190,\n",
    "}\n",
    "items = tuple(snack_values.items())\n",
    "print(items)"
   ]
  },
  {
   "cell_type": "code",
   "execution_count": 4,
   "id": "1320072d",
   "metadata": {},
   "outputs": [
    {
     "name": "stdout",
     "output_type": "stream",
     "text": [
      "item1&item2\n"
     ]
    }
   ],
   "source": [
    "# 언패킹\n",
    "# 인덱스를 통해 각 값에 접근하는 대신 이 튜플을 두 변수 이름으로 이뤄진 튜플에 대입할 수 있다\n",
    "item = ('item1', 'item2')\n",
    "first, second = item\n",
    "print(first + \"&\" + second)"
   ]
  },
  {
   "cell_type": "markdown",
   "id": "025848e1",
   "metadata": {},
   "source": [
    "## way 7. range보다는 enumerate를 사용하라\n",
    "- enumerate: 내장함수, 이터레이터를 지연 계산 제너레이터로 감싸 루프 인덱스와 이터레이터의 다음 값으로 이뤄진 쌍을 넘겨준다."
   ]
  },
  {
   "cell_type": "code",
   "execution_count": 8,
   "id": "6a863977",
   "metadata": {},
   "outputs": [
    {
     "name": "stdout",
     "output_type": "stream",
     "text": [
      "1: vanilla\n",
      "2: chocolate\n",
      "3: peanuts\n",
      "4: strawberry\n"
     ]
    }
   ],
   "source": [
    "flavor_list = ['vanilla', 'chocolate', 'peanuts', 'strawberry']\n",
    "\n",
    "for i in range(len(flavor_list)):\n",
    "    print(f'{i+1}: {flavor_list[i]}')"
   ]
  },
  {
   "cell_type": "code",
   "execution_count": 9,
   "id": "88c412d5",
   "metadata": {},
   "outputs": [
    {
     "name": "stdout",
     "output_type": "stream",
     "text": [
      "(0, 'vanilla')\n"
     ]
    }
   ],
   "source": [
    "it = enumerate(flavor_list)\n",
    "print(next(it))"
   ]
  },
  {
   "cell_type": "code",
   "execution_count": 10,
   "id": "d6b04318",
   "metadata": {},
   "outputs": [
    {
     "name": "stdout",
     "output_type": "stream",
     "text": [
      "1: vanilla\n",
      "2: chocolate\n",
      "3: peanuts\n",
      "4: strawberry\n"
     ]
    }
   ],
   "source": [
    "for i, flavor in enumerate(flavor_list):\n",
    "    print(f'{i+1}: {flavor}')"
   ]
  },
  {
   "cell_type": "markdown",
   "id": "e8aa3e19",
   "metadata": {},
   "source": [
    "## way 8. 여러 이터레이터에 대해 나란히 루프를 수행하려면 zip을 사용하라"
   ]
  },
  {
   "cell_type": "code",
   "execution_count": 11,
   "id": "d03276a3",
   "metadata": {},
   "outputs": [
    {
     "name": "stdout",
     "output_type": "stream",
     "text": [
      "Cecilia length: 7\n",
      "남궁민수 length: 4\n",
      "yuen length: 4\n"
     ]
    }
   ],
   "source": [
    "names = ['Cecilia', '남궁민수', 'yuen']\n",
    "counts = [len(n) for n in names]\n",
    "\n",
    "for name, count in zip(names, counts):\n",
    "    print(f\"{name} length: {count}\")"
   ]
  },
  {
   "cell_type": "markdown",
   "id": "ca9369de",
   "metadata": {},
   "source": [
    "### zip\n",
    "- 파이썬 내장함수\n",
    "- 둘 이상의 이터레이터를 지연 계산 제너레이터를 사용해 묶어준다.\n",
    "- 자신이 감싼 이터레이터중 어느 하나가 끝날때까지 튜플을 내놓는다.\n",
    "- 만약 zip에 전달한 리스트들의 길이가 같지 않다면 itertools의 zip_longest를 대신 사용해라"
   ]
  },
  {
   "cell_type": "markdown",
   "id": "d3c10786",
   "metadata": {},
   "source": [
    "## way 9. for나 while 루프 뒤에는 else 블록 사용하지 말라"
   ]
  },
  {
   "cell_type": "code",
   "execution_count": 12,
   "id": "1103cedb",
   "metadata": {},
   "outputs": [
    {
     "name": "stdout",
     "output_type": "stream",
     "text": [
      "Loop 0\n",
      "Loop 1\n",
      "Loop 2\n",
      "Else block!\n"
     ]
    }
   ],
   "source": [
    "'''\n",
    "파이썬 루프에선 루프가 반복수행하는 내부 블록 바로 다음에 else 블록을 추가할 수 있다.\n",
    "'''\n",
    "for i in range(3):\n",
    "    print('Loop', i)\n",
    "else:\n",
    "    print('Else block!')"
   ]
  },
  {
   "cell_type": "markdown",
   "id": "488e477f",
   "metadata": {},
   "source": [
    "- if/else 문에서 else 의미: 이 블록 앞의 블록이 실행되지 않으면 이 블록을 실행하라\n",
    "- try/except/else도 이런 패턴\n",
    "- 루프가 정상적으로 완료되지 않으면 이 블록을 실행하라 (X)"
   ]
  },
  {
   "cell_type": "markdown",
   "id": "b4621069",
   "metadata": {},
   "source": [
    "## way 10. 대입식을 사용해 반복을 피하라\n",
    "### 대입식(assignment expression, walrus operator)\n",
    "- a:= b 의 형식"
   ]
  },
  {
   "cell_type": "code",
   "execution_count": 3,
   "id": "247898e1",
   "metadata": {},
   "outputs": [],
   "source": [
    "'''\n",
    "주스 바에서 과일 바구니를 관리하는 예제\n",
    "- 레모네이드를 만들기 위해선 레몬이 최소 1개 이상\n",
    "- 사과주스를 만들기 위한 사과는 최소 4개\n",
    "'''\n",
    "\n",
    "fresh_fruit = {\n",
    "    '사과': 10,\n",
    "    '바나나': 8,\n",
    "    '레몬': 5\n",
    "}\n",
    "\n",
    "def make_lemonade(count):\n",
    "    return \"Lemonade\""
   ]
  },
  {
   "cell_type": "code",
   "execution_count": 4,
   "id": "5e60595f",
   "metadata": {},
   "outputs": [],
   "source": [
    "# 1 월러스 연산자 없이 검사\n",
    "count = fresh_fruit.get('레몬', 0)\n",
    "if count:\n",
    "    make_lemonade(count)"
   ]
  },
  {
   "cell_type": "code",
   "execution_count": 5,
   "id": "9264ad34",
   "metadata": {},
   "outputs": [],
   "source": [
    "# 2\n",
    "if count := fresh_fruit.get('레몬', 0):\n",
    "    make_lemonade(count)"
   ]
  },
  {
   "cell_type": "markdown",
   "id": "2f94b965",
   "metadata": {},
   "source": [
    "- 대입식에서는 왈러스 연산자를 사용해 하나의 식에서 변수 이름에 값을 대입하면서 이 값을 평가할 수 있고, 중복을 줄일 수 있다.\n",
    "- 대입식이 더 큰 식의 일부분으로 쓰일 때는 괄호로 둘러싸야 한다."
   ]
  },
  {
   "cell_type": "code",
   "execution_count": null,
   "id": "3e791e50",
   "metadata": {},
   "outputs": [],
   "source": []
  }
 ],
 "metadata": {
  "kernelspec": {
   "display_name": "Python 3 (ipykernel)",
   "language": "python",
   "name": "python3"
  },
  "language_info": {
   "codemirror_mode": {
    "name": "ipython",
    "version": 3
   },
   "file_extension": ".py",
   "mimetype": "text/x-python",
   "name": "python",
   "nbconvert_exporter": "python",
   "pygments_lexer": "ipython3",
   "version": "3.8.11"
  }
 },
 "nbformat": 4,
 "nbformat_minor": 5
}
